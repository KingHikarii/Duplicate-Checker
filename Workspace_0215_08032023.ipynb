{
 "cells": [
  {
   "cell_type": "code",
   "execution_count": 1,
   "id": "26f7a8ec",
   "metadata": {},
   "outputs": [
    {
     "name": "stdout",
     "output_type": "stream",
     "text": [
      "The Number of Rows:  8\n",
      "\n",
      "['A', 0] is a duplicate!\n",
      "Location:  2\n",
      "\n",
      "['D', 8] is a duplicate!\n",
      "Location:  8\n",
      "\n"
     ]
    }
   ],
   "source": [
    "import pandas as pd\n",
    "\n",
    "DataFrame = pd.read_csv('C:/Users/degnan.kopa/Desktop/File 1/Duplicate Project II.csv')\n",
    "\n",
    "\n",
    "print(\"The Number of Rows: \",len(DataFrame.index))\n",
    "print()\n",
    "\n",
    "\n",
    "records_list = []\n",
    "counter = 0\n",
    "\n",
    "\n",
    "for i in range(len(DataFrame.index)):\n",
    "\n",
    "\n",
    "    records_list.append(DataFrame.values[counter])\n",
    "    counter += 1\n",
    "\n",
    "counter = 0\n",
    "\n",
    "test_list = []\n",
    "for i in range(len(records_list)):\n",
    "    test_list.append(records_list[counter].tolist())\n",
    "    counter += 1\n",
    "\n",
    "dups = set()\n",
    "\n",
    "i = 0\n",
    "\n",
    "for route in test_list:\n",
    "    if tuple(route) in dups:\n",
    "        print('%s is a duplicate!' % route)\n",
    "        print('Location: ', i+1)\n",
    "        print()\n",
    "        i += 1\n",
    "    else:\n",
    "        dups.add(tuple(route))\n",
    "        i += 1\n"
   ]
  },
  {
   "cell_type": "code",
   "execution_count": null,
   "id": "a835a82d",
   "metadata": {},
   "outputs": [],
   "source": []
  }
 ],
 "metadata": {
  "kernelspec": {
   "display_name": "Python 3 (ipykernel)",
   "language": "python",
   "name": "python3"
  },
  "language_info": {
   "codemirror_mode": {
    "name": "ipython",
    "version": 3
   },
   "file_extension": ".py",
   "mimetype": "text/x-python",
   "name": "python",
   "nbconvert_exporter": "python",
   "pygments_lexer": "ipython3",
   "version": "3.11.3"
  }
 },
 "nbformat": 4,
 "nbformat_minor": 5
}
